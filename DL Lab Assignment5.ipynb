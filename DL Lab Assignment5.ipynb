{
 "cells": [
  {
   "cell_type": "code",
   "execution_count": 1,
   "metadata": {
    "id": "p1Dl_JiWs6TF"
   },
   "outputs": [
    {
     "name": "stderr",
     "output_type": "stream",
     "text": [
      "C:\\Users\\Lina Gharate\\anaconda3\\lib\\site-packages\\scipy\\__init__.py:155: UserWarning: A NumPy version >=1.18.5 and <1.25.0 is required for this version of SciPy (detected version 1.26.0\n",
      "  warnings.warn(f\"A NumPy version >={np_minversion} and <{np_maxversion}\"\n"
     ]
    }
   ],
   "source": [
    "import numpy as np\n",
    "import keras.backend as K\n",
    "from keras.models import Sequential\n",
    "from keras.layers import Dense, Embedding, Lambda\n",
    "from keras import utils\n",
    "from keras.preprocessing import sequence\n",
    "from keras.preprocessing.text import Tokenizer\n",
    "import gensim"
   ]
  },
  {
   "cell_type": "code",
   "execution_count": null,
   "metadata": {
    "id": "snW8tGaetMWl"
   },
   "outputs": [],
   "source": [
    "#pip install keras.utils"
   ]
  },
  {
   "cell_type": "code",
   "execution_count": 2,
   "metadata": {
    "id": "BKG4Q5W4t2bf"
   },
   "outputs": [],
   "source": [
    "# 1) Data Preparation\n",
    "data=open('corona.txt','r')"
   ]
  },
  {
   "cell_type": "code",
   "execution_count": 3,
   "metadata": {
    "id": "fUsCUZokv2Jb"
   },
   "outputs": [],
   "source": [
    "corona_data = [text for text in data if text.count(' ') >= 2]"
   ]
  },
  {
   "cell_type": "code",
   "execution_count": 4,
   "metadata": {
    "id": "IGYCGqB1v6Jt"
   },
   "outputs": [],
   "source": [
    "vectorize = Tokenizer()\n",
    "vectorize.fit_on_texts(corona_data)"
   ]
  },
  {
   "cell_type": "code",
   "execution_count": 5,
   "metadata": {
    "id": "hGHQc9Byv9pA"
   },
   "outputs": [],
   "source": [
    "corona_data = vectorize.texts_to_sequences(corona_data)"
   ]
  },
  {
   "cell_type": "code",
   "execution_count": 6,
   "metadata": {
    "id": "912pzy7AwBsj"
   },
   "outputs": [],
   "source": [
    "total_vocab = sum(len(s) for s in corona_data)\n",
    "word_count = len(vectorize.word_index) + 1\n",
    "window_size = 2"
   ]
  },
  {
   "cell_type": "code",
   "execution_count": 7,
   "metadata": {
    "id": "vwt5pZH8wKk8"
   },
   "outputs": [],
   "source": [
    "#2) generate training data\n",
    "def cbow_model(data, window_size, total_vocab):\n",
    "    total_length = window_size*2\n",
    "    for text in data:\n",
    "        text_len = len(text)\n",
    "        for idx, word in enumerate(text):\n",
    "            context_word = []\n",
    "            target   = []\n",
    "            begin = idx - window_size\n",
    "            end = idx + window_size + 1\n",
    "            context_word.append([text[i] for i in range(begin, end) if 0 <= i < text_len and i != idx])\n",
    "            target.append(word)\n",
    "            contextual = sequence.pad_sequences(context_word, total_length=total_length)\n",
    "            final_target = utils.to_categorical(target, total_vocab)\n",
    "            yield(contextual, final_target)"
   ]
  },
  {
   "cell_type": "code",
   "execution_count": 8,
   "metadata": {
    "colab": {
     "base_uri": "https://localhost:8080/"
    },
    "id": "iq3rhDGZwoyi",
    "outputId": "e0cfe599-7623-4587-cd92-7fcdd9b0d726"
   },
   "outputs": [
    {
     "name": "stdout",
     "output_type": "stream",
     "text": [
      "0 0\n",
      "1 0\n",
      "2 0\n",
      "3 0\n",
      "4 0\n",
      "5 0\n",
      "6 0\n",
      "7 0\n",
      "8 0\n",
      "9 0\n"
     ]
    }
   ],
   "source": [
    "# 3) Trains Model \n",
    "model = Sequential()\n",
    "model.add(Embedding(input_dim=total_vocab, output_dim=100, input_length=window_size*2))\n",
    "model.add(Lambda(lambda x: K.mean(x, axis=1), output_shape=(100,)))\n",
    "model.add(Dense(total_vocab, activation='softmax'))\n",
    "model.compile(loss='categorical_crossentropy', optimizer='adam')\n",
    "for i in range(10):\n",
    "    cost = 0\n",
    "    for x, y in cbow_model(data, window_size, total_vocab):\n",
    "        cost += model.train_on_batch(contextual, final_target)\n",
    "    print(i, cost)\n"
   ]
  },
  {
   "cell_type": "code",
   "execution_count": 9,
   "metadata": {
    "colab": {
     "base_uri": "https://localhost:8080/"
    },
    "id": "ZSXG7GZawuaB",
    "outputId": "e2ae50a8-c1ff-49a3-b072-c3203abc2113"
   },
   "outputs": [
    {
     "data": {
      "text/plain": [
       "8"
      ]
     },
     "execution_count": 9,
     "metadata": {},
     "output_type": "execute_result"
    }
   ],
   "source": [
    "# 4) Output \n",
    "dimensions=100\n",
    "vect_file = open('vectors.txt','w')\n",
    "vect_file.write('{} {}\\n'.format(101,dimensions))\n"
   ]
  },
  {
   "cell_type": "code",
   "execution_count": 10,
   "metadata": {
    "id": "_dTl7J_Qw_dR"
   },
   "outputs": [],
   "source": [
    "weights = model.get_weights()[0]\n",
    "for text, i in vectorize.word_index.items():\n",
    "    final_vec = ' '.join(map(str, list(weights[i, :])))\n",
    "    vect_file.write('{} {}\\n'.format(text, final_vec))\n",
    "vect_file.close()"
   ]
  },
  {
   "cell_type": "code",
   "execution_count": 11,
   "metadata": {
    "colab": {
     "base_uri": "https://localhost:8080/"
    },
    "id": "lFBIb9xSxEyX",
    "outputId": "f5f8ecdb-f104-4820-c560-51930fee1f75"
   },
   "outputs": [
    {
     "data": {
      "text/plain": [
       "[('median', 0.1976477950811386),\n",
       " ('covid', 0.17762495577335358),\n",
       " ('shorter', 0.1589234471321106),\n",
       " ('infection', 0.1581912785768509),\n",
       " ('–', 0.1479920595884323),\n",
       " ('estimated', 0.12433554977178574),\n",
       " ('generated', 0.12066568434238434),\n",
       " ('be', 0.118003249168396),\n",
       " ('than', 0.11400958150625229),\n",
       " ('a', 0.10750817507505417)]"
      ]
     },
     "execution_count": 11,
     "metadata": {},
     "output_type": "execute_result"
    }
   ],
   "source": [
    "cbow_output = gensim.models.KeyedVectors.load_word2vec_format('vectors.txt', binary=False)\n",
    "cbow_output.most_similar(positive=['virus'])"
   ]
  },
  {
   "cell_type": "code",
   "execution_count": null,
   "metadata": {},
   "outputs": [],
   "source": []
  }
 ],
 "metadata": {
  "colab": {
   "provenance": []
  },
  "kernelspec": {
   "display_name": "Python 3 (ipykernel)",
   "language": "python",
   "name": "python3"
  },
  "language_info": {
   "codemirror_mode": {
    "name": "ipython",
    "version": 3
   },
   "file_extension": ".py",
   "mimetype": "text/x-python",
   "name": "python",
   "nbconvert_exporter": "python",
   "pygments_lexer": "ipython3",
   "version": "3.9.13"
  }
 },
 "nbformat": 4,
 "nbformat_minor": 1
}
